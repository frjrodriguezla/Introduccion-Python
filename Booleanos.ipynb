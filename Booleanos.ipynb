{
 "cells": [
  {
   "cell_type": "markdown",
   "metadata": {},
   "source": [
    "# Tipo de Variable - Booleanos\n",
    "\n",
    "  A continuación mencionaremos las caracteristicas más importantes de la variables tipo Booleano, estas variables tienen la peculiaridad de solo tener dos posibles valores ***True*** (**1**) o ***False*** (***0***), para iniciar pensemos en la siguientes variables:\n",
    "    \n"
   ]
  },
  {
   "cell_type": "code",
   "execution_count": 46,
   "metadata": {},
   "outputs": [],
   "source": [
    "luna = 0\n",
    "mercurio = 7\n",
    "venus = \"\"\n",
    "io = \"agua\"\n",
    "deimos = -1\n",
    "fobos = \"#$%\""
   ]
  },
  {
   "cell_type": "markdown",
   "metadata": {},
   "source": [
    "¿Comó puedo saber el valor Booleano asociado a cada una? Al momento de instalar python, él trae incorporado la __función básica__  ***bool ()*** la cual me permite conocer que valor booleano le corresponde a cada una de las siguientes variables.Como se muestra a continuación:"
   ]
  },
  {
   "cell_type": "code",
   "execution_count": 5,
   "metadata": {},
   "outputs": [
    {
     "data": {
      "text/plain": [
       "(False, True, False, True, True, True)"
      ]
     },
     "execution_count": 5,
     "metadata": {},
     "output_type": "execute_result"
    }
   ],
   "source": [
    "bool(luna), bool(mercurio), bool(venus) ,bool(io), bool(deimos), bool(fobos)\n"
   ]
  },
  {
   "cell_type": "markdown",
   "metadata": {},
   "source": [
    "Al observar los resultados generados por la función ***bool()*** , se infieren las siguientes cosas:\n",
    "* Independientemente del tipo de variable (tipo númerico o  __String__ ) cada una tiene asignado un valor ya se **True** o **False**.\n",
    "* Cuando las variables son númericas, tenemos que el valor **FALSE** le corresponde al objeto que se le asigne el número 0, y es **True**  en cualquier otro caso.\n",
    "\n",
    "* Cuando la variable es de tipo **string** encontramos algo similar, el valor **False** solo aparece cuando en el espacio esta vacío, y es **True** para los otros casos incluso cuando tiene simbolos especiales #, $ , %\n",
    "\n",
    "Lo más interesante de estas variables de tipo Booleanos viene cuando construimos ***expresiones*** que controlan nuestro codigo, y para formar dichas expresiones  existen multiples tipos de ***Operadores*** como lo son: los ***Operadores de Pertenencia***, los ***Operadores de Relacionales*** , los ***Operadores Lógicos*** y los **Operadores de identidad**\n",
    "\n",
    "## Operadores Lógicos\n",
    "\n",
    "Los operadores lógicos son ***Funciones Básicas de Python*** que nos permiten relacionar diferentes variables Booleanas para generar un nuevo valor, como es el caso  de las funciones ***AND***, ***OR*** y ***NOT***, como se muestra a continuación:"
   ]
  },
  {
   "cell_type": "code",
   "execution_count": 6,
   "metadata": {},
   "outputs": [
    {
     "data": {
      "text/plain": [
       "(True, False, False)"
      ]
     },
     "execution_count": 6,
     "metadata": {},
     "output_type": "execute_result"
    }
   ],
   "source": [
    "True and True, True and False, False and False"
   ]
  },
  {
   "cell_type": "code",
   "execution_count": 7,
   "metadata": {},
   "outputs": [
    {
     "data": {
      "text/plain": [
       "(True, True, False)"
      ]
     },
     "execution_count": 7,
     "metadata": {},
     "output_type": "execute_result"
    }
   ],
   "source": [
    "True or True, True or False, False or False"
   ]
  },
  {
   "cell_type": "code",
   "execution_count": 8,
   "metadata": {},
   "outputs": [
    {
     "data": {
      "text/plain": [
       "(False, True)"
      ]
     },
     "execution_count": 8,
     "metadata": {},
     "output_type": "execute_result"
    }
   ],
   "source": [
    "not True, not False"
   ]
  },
  {
   "cell_type": "markdown",
   "metadata": {},
   "source": [
    "## Operadores de Relacionales\n",
    "Los operadores relacionales actuán sobre todo tipo de variables, sin embargo; es más común encontrarlos en variables de tipo númerico,y suelen operar cuando comparamos dos valores para obtener un resultado Booleano de acuerdo la expresión. Dichos  operadores son , ==  ***(Igual)***, < **(menor)**, > **(mayor)**, <= **(menor ó igual)**, >= **(mayor ó igual)** y !=  **(diferente)**, en seguida se mostrarán algunos ejemplos:"
   ]
  },
  {
   "cell_type": "code",
   "execution_count": 9,
   "metadata": {},
   "outputs": [
    {
     "data": {
      "text/plain": [
       "(True, False, False, False, False, False)"
      ]
     },
     "execution_count": 9,
     "metadata": {},
     "output_type": "execute_result"
    }
   ],
   "source": [
    "\"s\" == \"s\",  5 == 4 , 5.44 == 4.55, \"jabon\" == \"jabom\", -1 == -3, -6 == 6"
   ]
  },
  {
   "cell_type": "code",
   "execution_count": 10,
   "metadata": {},
   "outputs": [
    {
     "data": {
      "text/plain": [
       "(False, False, False, False, False, True)"
      ]
     },
     "execution_count": 10,
     "metadata": {},
     "output_type": "execute_result"
    }
   ],
   "source": [
    "\"s\" < \"s\",  5 < 4 , 5.44 < 4.55, \"jabon\" < \"jabom\", -1 < -3, -6 < 6"
   ]
  },
  {
   "cell_type": "code",
   "execution_count": 11,
   "metadata": {},
   "outputs": [
    {
     "data": {
      "text/plain": [
       "(False, True, True, True, True, False)"
      ]
     },
     "execution_count": 11,
     "metadata": {},
     "output_type": "execute_result"
    }
   ],
   "source": [
    "\"s\" > \"s\",  5 > 4 , 5.44 > 4.55, \"jabon\" > \"jabom\", -1 > -3, -6 > 6"
   ]
  },
  {
   "cell_type": "code",
   "execution_count": 12,
   "metadata": {},
   "outputs": [
    {
     "data": {
      "text/plain": [
       "(False, True, True, True, True, True)"
      ]
     },
     "execution_count": 12,
     "metadata": {},
     "output_type": "execute_result"
    }
   ],
   "source": [
    "\"s\" != \"s\",  5 != 4 , 5.44 != 4.55, \"jabon\" != \"jabom\", -1 != -3, -6 != 6"
   ]
  },
  {
   "cell_type": "code",
   "execution_count": 13,
   "metadata": {},
   "outputs": [
    {
     "data": {
      "text/plain": [
       "True"
      ]
     },
     "execution_count": 13,
     "metadata": {},
     "output_type": "execute_result"
    }
   ],
   "source": [
    "\"b\" > \"a\" "
   ]
  },
  {
   "cell_type": "markdown",
   "metadata": {},
   "source": [
    "## Operadores de Pertenencia\n",
    "\n",
    "Los operadores de pertenenecia son acciones que se ejecutan en **Listas, Tuplas** y **String**, donde la operacioón en cuestión verifica que dicho elemento pertenezca  a la **Listas** ó **String**. En este caso tendremos,  dos factibles opciones **in** y  **not in**. En seguida mostraremos algunos ejemplos:"
   ]
  },
  {
   "cell_type": "code",
   "execution_count": 14,
   "metadata": {},
   "outputs": [
    {
     "data": {
      "text/plain": [
       "(True, False, True, True)"
      ]
     },
     "execution_count": 14,
     "metadata": {},
     "output_type": "execute_result"
    }
   ],
   "source": [
    "\"h\" in \"hola\",\"H\" in \"hola\", 5 not in [1,2,3,4] , 4 in(1,2,3,4)"
   ]
  },
  {
   "cell_type": "markdown",
   "metadata": {},
   "source": [
    "Como nota adicional, el operador hace diferencia entre letras mayusculas y minusculas."
   ]
  },
  {
   "cell_type": "markdown",
   "metadata": {},
   "source": [
    "# Operadores de Identidad\n",
    "\n",
    "En este caso el operador quiere saber si la varible en cuestión ocupa el mismo espacio en la memoria del equipo, de manera similar al caso del **Operador de pertenencia** existe dos caminos **is** y **is not** . Para estos ejemplos usaremos la variables definidas previamente como lo son **luna**, **mercurio** ... entre otras:"
   ]
  },
  {
   "cell_type": "code",
   "execution_count": 22,
   "metadata": {},
   "outputs": [
    {
     "data": {
      "text/plain": [
       "(False, True, True)"
      ]
     },
     "execution_count": 22,
     "metadata": {},
     "output_type": "execute_result"
    }
   ],
   "source": [
    "caronte = 0\n",
    "\n",
    "venus is luna, caronte is luna, venus is not luna"
   ]
  },
  {
   "cell_type": "code",
   "execution_count": 25,
   "metadata": {},
   "outputs": [
    {
     "data": {
      "text/plain": [
       "(True, False)"
      ]
     },
     "execution_count": 25,
     "metadata": {},
     "output_type": "execute_result"
    }
   ],
   "source": [
    "europa = \"agua\"\n",
    "io is europa, venus is europa"
   ]
  },
  {
   "cell_type": "markdown",
   "metadata": {},
   "source": [
    "Considero prudente hacer algunas aclaraciones de los ejemplos anteriores, cuando escribimos\n",
    "\n",
    "    caronte is luna => True     ó     venus is europa => True\n",
    "    \n",
    "se debe a que tanto la variable caronte como luna hacen refencia al número 0, ocurre los mismo con europa y venus que indican la palabra \"agua\" es por ello que ocupan el mismo espacio en la memoria. Este Operador cambia ligeramente cuanto es utilizado en **tuplas** o **listas** .(Si deseas conocer más al respecto puedes revisar las referencias)"
   ]
  },
  {
   "cell_type": "markdown",
   "metadata": {},
   "source": [
    "# Últimas observaciones\n",
    "\n",
    "Como se menciono al inicio del documento, la importancia de las variables Booleanas está en la definición de las estructuras de control, es por ello: que se dara un breve ejemplo de como usarse. Para este caso utilizaremos, las noción matematica de intervalo. Supongamos una variable **x** cualquiera, queremos saber si nuestra varibles esta en el intervalor de $[-4, 4] \\in  \\ Re$"
   ]
  },
  {
   "cell_type": "code",
   "execution_count": 44,
   "metadata": {},
   "outputs": [
    {
     "name": "stdout",
     "output_type": "stream",
     "text": [
      "Por favor ingrese el valor de la variable x  \n",
      "-14\n"
     ]
    },
    {
     "data": {
      "text/plain": [
       "False"
      ]
     },
     "execution_count": 44,
     "metadata": {},
     "output_type": "execute_result"
    }
   ],
   "source": [
    "print(\"Por favor ingrese el valor de la variable x  \")\n",
    "x = float(input( ))\n",
    "((-4 <= x) and (x <= 4))\n"
   ]
  },
  {
   "cell_type": "markdown",
   "metadata": {},
   "source": [
    "### Referencias\n",
    "* https://www.mclibre.org/consultar/python/lecciones/python-booleanos.html# consultado el dia 16/02/21\n",
    "* https://www.freecodecamp.org/espanol/news/operadores-basicos-en-python-con-ejemplos/ consultado el día 18/02/21\n",
    "* https://entrenamiento-python-basico.readthedocs.io/es/latest/leccion3/operadores_relacionales.html Consultado el día 18/02/21"
   ]
  }
 ],
 "metadata": {
  "kernelspec": {
   "display_name": "Python 3",
   "language": "python",
   "name": "python3"
  },
  "language_info": {
   "codemirror_mode": {
    "name": "ipython",
    "version": 3
   },
   "file_extension": ".py",
   "mimetype": "text/x-python",
   "name": "python",
   "nbconvert_exporter": "python",
   "pygments_lexer": "ipython3",
   "version": "3.8.5"
  }
 },
 "nbformat": 4,
 "nbformat_minor": 4
}
