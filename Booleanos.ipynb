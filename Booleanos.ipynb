{
 "cells": [
  {
   "cell_type": "markdown",
   "metadata": {},
   "source": [
    "# Tipo de Variable - Booleanos\n",
    "\n",
    "  A continuación mencionaremos las caracteristicas más importantes de la variables tipo Booleano, estas variables tienen la peculiaridad de solo tener dos posibles valores ***True*** (**1**) o ***False*** (***0***), para iniciar pensemos en la siguientes variables:\n",
    "    \n"
   ]
  },
  {
   "cell_type": "code",
   "execution_count": 23,
   "metadata": {},
   "outputs": [],
   "source": [
    "luna = 0\n",
    "mercurio = 7\n",
    "venus = \"\"\n",
    "io = \"agua\"\n",
    "deimos = -1\n",
    "fobos = \"#$%\""
   ]
  },
  {
   "cell_type": "markdown",
   "metadata": {},
   "source": [
    "¿Comó puedo saber el valor Booleano asociado a cada una? Al momento de instalar python, él trae incorporado la __función básica__  ***bool ()*** la cual me permite conocer que valor booleano tiene cada una de las siguientes variables.Como se muestra a continuación"
   ]
  },
  {
   "cell_type": "code",
   "execution_count": 24,
   "metadata": {},
   "outputs": [
    {
     "data": {
      "text/plain": [
       "(False, True, False, True, True, True)"
      ]
     },
     "execution_count": 24,
     "metadata": {},
     "output_type": "execute_result"
    }
   ],
   "source": [
    "bool(luna), bool(mercurio), bool(venus) ,bool(io), bool(deimos), bool(fobos)\n"
   ]
  },
  {
   "cell_type": "markdown",
   "metadata": {},
   "source": [
    "Al observar los resultados generados por la función ***bool()*** , se inferen las siguientes cosas:\n",
    "* Independientemente del tipo de variable (tipo númerico o  __String__ ) cada una tiene asignado un valor.\n",
    "* Cuando las variables son númericas tenemos, que el valor **FALSE** le corresponde al objeto que se asigne el 0, y es **True**  en cualquier otro caso.\n",
    "\n",
    "* Cuando la variable es de tipo **string** encontramos algo similar, el valor **False** solo aparece cuando el espacio esta vacío, y es **True** para los otros casos incluso cuando tiene simbolos especiales #, $ , %\n",
    "\n",
    "Lo más interesante de estas variables de tipo Booleanos viene cuando construimos ***expresiones*** que controlan nuestro codigo, y para formar dichas expresiones  existen multiples tipos de ***Operadores*** como lo son: los ***Operadores de Pertenencia***, los ***Operadores de Asignación*** y los ***Operadores Lógicos***.\n",
    "\n",
    "## Operadores Lógicos\n",
    "\n",
    "Los operadores lógicos son ***Funciones Básicas de Python*** que nos permiten relacionar diferentes variables Booleanas para generar un nuevo valor, como es el caso  de las funciones ***AND***, ***OR*** y ***NOT***, como se muestra a continuación:"
   ]
  },
  {
   "cell_type": "code",
   "execution_count": 2,
   "metadata": {},
   "outputs": [
    {
     "data": {
      "text/plain": [
       "(True, False, False)"
      ]
     },
     "execution_count": 2,
     "metadata": {},
     "output_type": "execute_result"
    }
   ],
   "source": [
    "True and True, True and False, False and False"
   ]
  },
  {
   "cell_type": "code",
   "execution_count": 3,
   "metadata": {},
   "outputs": [
    {
     "data": {
      "text/plain": [
       "(True, True, False)"
      ]
     },
     "execution_count": 3,
     "metadata": {},
     "output_type": "execute_result"
    }
   ],
   "source": [
    "True or True, True or False, False or False"
   ]
  },
  {
   "cell_type": "code",
   "execution_count": 4,
   "metadata": {},
   "outputs": [
    {
     "data": {
      "text/plain": [
       "(False, True)"
      ]
     },
     "execution_count": 4,
     "metadata": {},
     "output_type": "execute_result"
    }
   ],
   "source": [
    "not True, not False"
   ]
  },
  {
   "cell_type": "markdown",
   "metadata": {},
   "source": [
    "## Operadores de Asignación\n",
    "Los operadores de asignación actuan para variables de tipo númerico, como de tipo **String**, sin embargo; se acostumbran a ver más en variables de tipo númerico,y suelen operar cuando comparamos dos valores para obtener un resultado Booleano de acuerdo la expresión. Dichos  operadores son , ==  ***(Igual)***, < **(menor)**, > **(mayor)**, <= **(menor ó igual)**, >= **(mayor ó igual)** y !=  **(diferente)**, de la misma manera los operadores Lógicos son ***Funciones Básicas de Python***, en seguida se mostrarán algunos ejemplos:"
   ]
  },
  {
   "cell_type": "code",
   "execution_count": 13,
   "metadata": {},
   "outputs": [
    {
     "data": {
      "text/plain": [
       "(True, False, False, False, False, False)"
      ]
     },
     "execution_count": 13,
     "metadata": {},
     "output_type": "execute_result"
    }
   ],
   "source": [
    "\"s\" == \"s\",  5 == 4 , 5.44 == 4.55, \"jabon\" == \"jabom\", -1 == -3, -6 == 6"
   ]
  },
  {
   "cell_type": "code",
   "execution_count": 14,
   "metadata": {},
   "outputs": [
    {
     "data": {
      "text/plain": [
       "(False, False, False, False, False, True)"
      ]
     },
     "execution_count": 14,
     "metadata": {},
     "output_type": "execute_result"
    }
   ],
   "source": [
    "\"s\" < \"s\",  5 < 4 , 5.44 < 4.55, \"jabon\" < \"jabom\", -1 < -3, -6 < 6"
   ]
  },
  {
   "cell_type": "code",
   "execution_count": 16,
   "metadata": {},
   "outputs": [
    {
     "data": {
      "text/plain": [
       "(False, True, True, True, True, False)"
      ]
     },
     "execution_count": 16,
     "metadata": {},
     "output_type": "execute_result"
    }
   ],
   "source": [
    "\"s\" > \"s\",  5 > 4 , 5.44 > 4.55, \"jabon\" > \"jabom\", -1 > -3, -6 > 6"
   ]
  },
  {
   "cell_type": "code",
   "execution_count": 17,
   "metadata": {},
   "outputs": [
    {
     "data": {
      "text/plain": [
       "(False, True, True, True, True, True)"
      ]
     },
     "execution_count": 17,
     "metadata": {},
     "output_type": "execute_result"
    }
   ],
   "source": [
    "\"s\" != \"s\",  5 != 4 , 5.44 != 4.55, \"jabon\" != \"jabom\", -1 != -3, -6 != 6"
   ]
  },
  {
   "cell_type": "code",
   "execution_count": null,
   "metadata": {},
   "outputs": [],
   "source": []
  },
  {
   "cell_type": "code",
   "execution_count": null,
   "metadata": {},
   "outputs": [],
   "source": []
  },
  {
   "cell_type": "markdown",
   "metadata": {},
   "source": [
    "### Referencias\n",
    "* https://www.mclibre.org/consultar/python/lecciones/python-booleanos.html# consultado el dia 16/02/21\n",
    "* https://www.freecodecamp.org/espanol/news/operadores-basicos-en-python-con-ejemplos/ consultado el día 18/02/21\n",
    "* https://entrenamiento-python-basico.readthedocs.io/es/latest/leccion3/operadores_relacionales.html Consultado el día 18/02/21"
   ]
  }
 ],
 "metadata": {
  "kernelspec": {
   "display_name": "Python 3",
   "language": "python",
   "name": "python3"
  },
  "language_info": {
   "codemirror_mode": {
    "name": "ipython",
    "version": 3
   },
   "file_extension": ".py",
   "mimetype": "text/x-python",
   "name": "python",
   "nbconvert_exporter": "python",
   "pygments_lexer": "ipython3",
   "version": "3.8.5"
  }
 },
 "nbformat": 4,
 "nbformat_minor": 4
}
