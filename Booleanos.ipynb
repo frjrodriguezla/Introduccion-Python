{
 "cells": [
  {
   "cell_type": "markdown",
   "metadata": {},
   "source": [
    "# Tipo de Variable - Booleanos\n",
    "\n",
    "  A continuación mencionaremos las caracteristicas más importantes de la variables tipo Booleano, estas variables tienen la peculiaridad de solo tener dos posibles valores ***True*** (**1**) o ***False*** (***0***), pensemos en la siguientes variables:\n",
    "    \n"
   ]
  },
  {
   "cell_type": "code",
   "execution_count": 23,
   "metadata": {},
   "outputs": [],
   "source": [
    "luna = 0\n",
    "mercurio = 7\n",
    "venus = \"\"\n",
    "io = \"agua\"\n",
    "deimos = -1\n",
    "fobos = \"#$%\""
   ]
  },
  {
   "cell_type": "markdown",
   "metadata": {},
   "source": [
    "¿Comó puedo saber si estas variables son de tipo Booleano? Existe la __función básica__  ***bool ()*** la cual me permite conocer que valor booleano tiene cada una de las siguientes variables."
   ]
  },
  {
   "cell_type": "code",
   "execution_count": 24,
   "metadata": {},
   "outputs": [
    {
     "data": {
      "text/plain": [
       "(False, True, False, True, True, True)"
      ]
     },
     "execution_count": 24,
     "metadata": {},
     "output_type": "execute_result"
    }
   ],
   "source": [
    "bool(luna), bool(mercurio), bool(venus) ,bool(io), bool(deimos), bool(fobos)\n"
   ]
  },
  {
   "cell_type": "markdown",
   "metadata": {},
   "source": [
    "Al observar los resultados generados por la función ***bool()*** , se inferen las siguientes cosas:\n",
    "* Independientemente del tipo de variable (tipo númerico o  __String__ ) cada una tiene asociada valor.\n",
    "* Cuando las variables son númericas tenemos, que el valor **FALSE** le corresponde al objeto que se asigne el 0, y es **True**  en cualquier otro caso.\n",
    "\n",
    "* Cuando la variable es de tipo **string** encontramos algo similar, el valor **False** solo aparece cuando el espacio esta vacío, y es **True** para los otros casos incluso cuando tiene simbolos especiales #, $ , %\n",
    "\n",
    "Lo más interesante de estas variables de tipo Booleanos viene cuando construimos expresiones que controlan nuestro codigo, y para formar dichas expresiones  existen las operadociones ***AND***, ***OR*** y ***NOT***"
   ]
  },
  {
   "cell_type": "markdown",
   "metadata": {},
   "source": [
    "### Referencias\n",
    "* https://www.mclibre.org/consultar/python/lecciones/python-booleanos.html# consultado el dia 16/02/21"
   ]
  }
 ],
 "metadata": {
  "kernelspec": {
   "display_name": "Python 3",
   "language": "python",
   "name": "python3"
  },
  "language_info": {
   "codemirror_mode": {
    "name": "ipython",
    "version": 3
   },
   "file_extension": ".py",
   "mimetype": "text/x-python",
   "name": "python",
   "nbconvert_exporter": "python",
   "pygments_lexer": "ipython3",
   "version": "3.8.5"
  }
 },
 "nbformat": 4,
 "nbformat_minor": 4
}
