{
 "cells": [
  {
   "cell_type": "markdown",
   "metadata": {},
   "source": [
    "### Solucion problema marge de notebooks"
   ]
  },
  {
   "cell_type": "code",
   "execution_count": 8,
   "metadata": {},
   "outputs": [
    {
     "name": "stdout",
     "output_type": "stream",
     "text": [
      "Collecting nbdime\n",
      "  Downloading nbdime-2.1.0-py2.py3-none-any.whl (5.0 MB)\n",
      "Requirement already satisfied: requests in c:\\users\\francisco r lanza\\anaconda3\\lib\\site-packages (from nbdime) (2.24.0)\n",
      "Requirement already satisfied: nbformat in c:\\users\\francisco r lanza\\anaconda3\\lib\\site-packages (from nbdime) (5.0.8)\n",
      "Collecting GitPython!=2.1.4,!=2.1.5,!=2.1.6\n",
      "  Downloading GitPython-3.1.13-py3-none-any.whl (159 kB)\n",
      "Requirement already satisfied: six in c:\\users\\francisco r lanza\\anaconda3\\lib\\site-packages (from nbdime) (1.15.0)\n",
      "Requirement already satisfied: tornado in c:\\users\\francisco r lanza\\anaconda3\\lib\\site-packages (from nbdime) (6.0.4)\n",
      "Requirement already satisfied: jinja2>=2.9 in c:\\users\\francisco r lanza\\anaconda3\\lib\\site-packages (from nbdime) (2.11.2)\n",
      "Requirement already satisfied: pygments in c:\\users\\francisco r lanza\\anaconda3\\lib\\site-packages (from nbdime) (2.7.2)\n",
      "Requirement already satisfied: notebook in c:\\users\\francisco r lanza\\anaconda3\\lib\\site-packages (from nbdime) (6.1.4)\n",
      "Requirement already satisfied: colorama in c:\\users\\francisco r lanza\\anaconda3\\lib\\site-packages (from nbdime) (0.4.4)\n",
      "Requirement already satisfied: chardet<4,>=3.0.2 in c:\\users\\francisco r lanza\\anaconda3\\lib\\site-packages (from requests->nbdime) (3.0.4)\n",
      "Requirement already satisfied: urllib3!=1.25.0,!=1.25.1,<1.26,>=1.21.1 in c:\\users\\francisco r lanza\\anaconda3\\lib\\site-packages (from requests->nbdime) (1.25.11)\n",
      "Requirement already satisfied: idna<3,>=2.5 in c:\\users\\francisco r lanza\\anaconda3\\lib\\site-packages (from requests->nbdime) (2.10)\n",
      "Requirement already satisfied: certifi>=2017.4.17 in c:\\users\\francisco r lanza\\anaconda3\\lib\\site-packages (from requests->nbdime) (2020.6.20)\n",
      "Requirement already satisfied: ipython-genutils in c:\\users\\francisco r lanza\\anaconda3\\lib\\site-packages (from nbformat->nbdime) (0.2.0)\n",
      "Requirement already satisfied: jsonschema!=2.5.0,>=2.4 in c:\\users\\francisco r lanza\\anaconda3\\lib\\site-packages (from nbformat->nbdime) (3.2.0)\n",
      "Requirement already satisfied: traitlets>=4.1 in c:\\users\\francisco r lanza\\anaconda3\\lib\\site-packages (from nbformat->nbdime) (5.0.5)\n",
      "Requirement already satisfied: jupyter-core in c:\\users\\francisco r lanza\\anaconda3\\lib\\site-packages (from nbformat->nbdime) (4.6.3)\n",
      "Collecting gitdb<5,>=4.0.1\n",
      "  Downloading gitdb-4.0.5-py3-none-any.whl (63 kB)\n",
      "Requirement already satisfied: MarkupSafe>=0.23 in c:\\users\\francisco r lanza\\anaconda3\\lib\\site-packages (from jinja2>=2.9->nbdime) (1.1.1)\n",
      "Requirement already satisfied: Send2Trash in c:\\users\\francisco r lanza\\anaconda3\\lib\\site-packages (from notebook->nbdime) (1.5.0)\n",
      "Requirement already satisfied: terminado>=0.8.3 in c:\\users\\francisco r lanza\\anaconda3\\lib\\site-packages (from notebook->nbdime) (0.9.1)\n",
      "Requirement already satisfied: nbconvert in c:\\users\\francisco r lanza\\anaconda3\\lib\\site-packages (from notebook->nbdime) (6.0.7)\n",
      "Requirement already satisfied: jupyter-client>=5.3.4 in c:\\users\\francisco r lanza\\anaconda3\\lib\\site-packages (from notebook->nbdime) (6.1.7)\n",
      "Requirement already satisfied: ipykernel in c:\\users\\francisco r lanza\\anaconda3\\lib\\site-packages (from notebook->nbdime) (5.3.4)\n",
      "Requirement already satisfied: argon2-cffi in c:\\users\\francisco r lanza\\anaconda3\\lib\\site-packages (from notebook->nbdime) (20.1.0)\n",
      "Requirement already satisfied: prometheus-client in c:\\users\\francisco r lanza\\anaconda3\\lib\\site-packages (from notebook->nbdime) (0.8.0)\n",
      "Requirement already satisfied: pyzmq>=17 in c:\\users\\francisco r lanza\\anaconda3\\lib\\site-packages (from notebook->nbdime) (19.0.2)\n",
      "Requirement already satisfied: attrs>=17.4.0 in c:\\users\\francisco r lanza\\anaconda3\\lib\\site-packages (from jsonschema!=2.5.0,>=2.4->nbformat->nbdime) (20.3.0)\n",
      "Requirement already satisfied: pyrsistent>=0.14.0 in c:\\users\\francisco r lanza\\anaconda3\\lib\\site-packages (from jsonschema!=2.5.0,>=2.4->nbformat->nbdime) (0.17.3)\n",
      "Requirement already satisfied: setuptools in c:\\users\\francisco r lanza\\anaconda3\\lib\\site-packages (from jsonschema!=2.5.0,>=2.4->nbformat->nbdime) (50.3.1.post20201107)\n",
      "Requirement already satisfied: pywin32>=1.0; sys_platform == \"win32\" in c:\\users\\francisco r lanza\\anaconda3\\lib\\site-packages (from jupyter-core->nbformat->nbdime) (227)\n",
      "Collecting smmap<4,>=3.0.1\n",
      "  Downloading smmap-3.0.5-py2.py3-none-any.whl (25 kB)\n",
      "Requirement already satisfied: pywinpty>=0.5 in c:\\users\\francisco r lanza\\anaconda3\\lib\\site-packages (from terminado>=0.8.3->notebook->nbdime) (0.5.7)\n",
      "Requirement already satisfied: defusedxml in c:\\users\\francisco r lanza\\anaconda3\\lib\\site-packages (from nbconvert->notebook->nbdime) (0.6.0)\n",
      "Requirement already satisfied: mistune<2,>=0.8.1 in c:\\users\\francisco r lanza\\anaconda3\\lib\\site-packages (from nbconvert->notebook->nbdime) (0.8.4)\n",
      "Requirement already satisfied: bleach in c:\\users\\francisco r lanza\\anaconda3\\lib\\site-packages (from nbconvert->notebook->nbdime) (3.2.1)\n",
      "Requirement already satisfied: nbclient<0.6.0,>=0.5.0 in c:\\users\\francisco r lanza\\anaconda3\\lib\\site-packages (from nbconvert->notebook->nbdime) (0.5.1)\n",
      "Requirement already satisfied: pandocfilters>=1.4.1 in c:\\users\\francisco r lanza\\anaconda3\\lib\\site-packages (from nbconvert->notebook->nbdime) (1.4.3)\n",
      "Requirement already satisfied: entrypoints>=0.2.2 in c:\\users\\francisco r lanza\\anaconda3\\lib\\site-packages (from nbconvert->notebook->nbdime) (0.3)\n",
      "Requirement already satisfied: testpath in c:\\users\\francisco r lanza\\anaconda3\\lib\\site-packages (from nbconvert->notebook->nbdime) (0.4.4)\n",
      "Requirement already satisfied: jupyterlab-pygments in c:\\users\\francisco r lanza\\anaconda3\\lib\\site-packages (from nbconvert->notebook->nbdime) (0.1.2)\n",
      "Requirement already satisfied: python-dateutil>=2.1 in c:\\users\\francisco r lanza\\anaconda3\\lib\\site-packages (from jupyter-client>=5.3.4->notebook->nbdime) (2.8.1)\n",
      "Requirement already satisfied: ipython>=5.0.0 in c:\\users\\francisco r lanza\\anaconda3\\lib\\site-packages (from ipykernel->notebook->nbdime) (7.19.0)\n",
      "Requirement already satisfied: cffi>=1.0.0 in c:\\users\\francisco r lanza\\anaconda3\\lib\\site-packages (from argon2-cffi->notebook->nbdime) (1.14.3)\n",
      "Requirement already satisfied: webencodings in c:\\users\\francisco r lanza\\anaconda3\\lib\\site-packages (from bleach->nbconvert->notebook->nbdime) (0.5.1)\n",
      "Requirement already satisfied: packaging in c:\\users\\francisco r lanza\\anaconda3\\lib\\site-packages (from bleach->nbconvert->notebook->nbdime) (20.4)\n",
      "Requirement already satisfied: nest-asyncio in c:\\users\\francisco r lanza\\anaconda3\\lib\\site-packages (from nbclient<0.6.0,>=0.5.0->nbconvert->notebook->nbdime) (1.4.2)\n",
      "Requirement already satisfied: async-generator in c:\\users\\francisco r lanza\\anaconda3\\lib\\site-packages (from nbclient<0.6.0,>=0.5.0->nbconvert->notebook->nbdime) (1.10)\n",
      "Requirement already satisfied: jedi>=0.10 in c:\\users\\francisco r lanza\\anaconda3\\lib\\site-packages (from ipython>=5.0.0->ipykernel->notebook->nbdime) (0.17.1)\n",
      "Requirement already satisfied: decorator in c:\\users\\francisco r lanza\\anaconda3\\lib\\site-packages (from ipython>=5.0.0->ipykernel->notebook->nbdime) (4.4.2)\n",
      "Requirement already satisfied: pickleshare in c:\\users\\francisco r lanza\\anaconda3\\lib\\site-packages (from ipython>=5.0.0->ipykernel->notebook->nbdime) (0.7.5)\n",
      "Requirement already satisfied: backcall in c:\\users\\francisco r lanza\\anaconda3\\lib\\site-packages (from ipython>=5.0.0->ipykernel->notebook->nbdime) (0.2.0)\n",
      "Requirement already satisfied: prompt-toolkit!=3.0.0,!=3.0.1,<3.1.0,>=2.0.0 in c:\\users\\francisco r lanza\\anaconda3\\lib\\site-packages (from ipython>=5.0.0->ipykernel->notebook->nbdime) (3.0.8)\n",
      "Requirement already satisfied: pycparser in c:\\users\\francisco r lanza\\anaconda3\\lib\\site-packages (from cffi>=1.0.0->argon2-cffi->notebook->nbdime) (2.20)\n",
      "Requirement already satisfied: pyparsing>=2.0.2 in c:\\users\\francisco r lanza\\anaconda3\\lib\\site-packages (from packaging->bleach->nbconvert->notebook->nbdime) (2.4.7)\n",
      "Requirement already satisfied: parso<0.8.0,>=0.7.0 in c:\\users\\francisco r lanza\\anaconda3\\lib\\site-packages (from jedi>=0.10->ipython>=5.0.0->ipykernel->notebook->nbdime) (0.7.0)\n",
      "Requirement already satisfied: wcwidth in c:\\users\\francisco r lanza\\anaconda3\\lib\\site-packages (from prompt-toolkit!=3.0.0,!=3.0.1,<3.1.0,>=2.0.0->ipython>=5.0.0->ipykernel->notebook->nbdime) (0.2.5)\n",
      "Installing collected packages: smmap, gitdb, GitPython, nbdime\n",
      "Successfully installed GitPython-3.1.13 gitdb-4.0.5 nbdime-2.1.0 smmap-3.0.5\n"
     ]
    }
   ],
   "source": [
    "!pip install nbdime"
   ]
  },
  {
   "cell_type": "markdown",
   "metadata": {},
   "source": [
    "# Tipos de variables en Python "
   ]
  },
  {
   "cell_type": "code",
   "execution_count": 10,
   "metadata": {},
   "outputs": [],
   "source": [
    "!nbdime config-git --enable --global"
   ]
  },
  {
   "cell_type": "code",
   "execution_count": 1,
   "metadata": {},
   "outputs": [
    {
     "name": "stdout",
     "output_type": "stream",
     "text": [
      "Hola Mundo\n"
     ]
    }
   ],
   "source": [
    "print('Hola Mundo')"
   ]
  },
  {
   "cell_type": "code",
   "execution_count": 2,
   "metadata": {},
   "outputs": [
    {
     "data": {
      "text/plain": [
       "str"
      ]
     },
     "execution_count": 2,
     "metadata": {},
     "output_type": "execute_result"
    }
   ],
   "source": [
    "type('Hola Mundo')"
   ]
  },
  {
   "cell_type": "code",
   "execution_count": 3,
   "metadata": {},
   "outputs": [
    {
     "data": {
      "text/plain": [
       "int"
      ]
     },
     "execution_count": 3,
     "metadata": {},
     "output_type": "execute_result"
    }
   ],
   "source": [
    "type(1)"
   ]
  },
  {
   "cell_type": "code",
   "execution_count": 4,
   "metadata": {},
   "outputs": [
    {
     "data": {
      "text/plain": [
       "float"
      ]
     },
     "execution_count": 4,
     "metadata": {},
     "output_type": "execute_result"
    }
   ],
   "source": [
    "type(2.333)"
   ]
  },
  {
   "cell_type": "code",
   "execution_count": 5,
   "metadata": {},
   "outputs": [
    {
     "data": {
      "text/plain": [
       "list"
      ]
     },
     "execution_count": 5,
     "metadata": {},
     "output_type": "execute_result"
    }
   ],
   "source": [
    "a=[1,2,3,4]\n",
    "type(a)"
   ]
  },
  {
   "cell_type": "code",
   "execution_count": 6,
   "metadata": {},
   "outputs": [
    {
     "data": {
      "text/plain": [
       "dict"
      ]
     },
     "execution_count": 6,
     "metadata": {},
     "output_type": "execute_result"
    }
   ],
   "source": [
    "a={'nombre':'pepito', 'edad':3}\n",
    "type(a)"
   ]
  }
 ],
 "metadata": {
  "kernelspec": {
   "display_name": "Python 3",
   "language": "python",
   "name": "python3"
  },
  "language_info": {
   "codemirror_mode": {
    "name": "ipython",
    "version": 3
   },
   "file_extension": ".py",
   "mimetype": "text/x-python",
   "name": "python",
   "nbconvert_exporter": "python",
   "pygments_lexer": "ipython3",
   "version": "3.8.5"
  }
 },
 "nbformat": 4,
 "nbformat_minor": 4
}
